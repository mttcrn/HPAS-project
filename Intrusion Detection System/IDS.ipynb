{
  "cells": [
    {
      "cell_type": "markdown",
      "metadata": {
        "id": "view-in-github",
        "colab_type": "text"
      },
      "source": [
        "<a href=\"https://colab.research.google.com/github/mttcrn/HPAS-project/blob/main/Intrusion%20Detection%20System/IDS.ipynb\" target=\"_parent\"><img src=\"https://colab.research.google.com/assets/colab-badge.svg\" alt=\"Open In Colab\"/></a>"
      ]
    },
    {
      "cell_type": "markdown",
      "id": "rPYTe7QseHvN",
      "metadata": {
        "id": "rPYTe7QseHvN"
      },
      "source": [
        "# Lab3: Intrusion Detection System"
      ]
    },
    {
      "cell_type": "code",
      "execution_count": 4,
      "id": "aC7wSTcMipsY",
      "metadata": {
        "colab": {
          "base_uri": "https://localhost:8080/"
        },
        "id": "aC7wSTcMipsY",
        "outputId": "d8c205a9-c16d-4b6f-b79a-b7b97f4e10b4"
      },
      "outputs": [
        {
          "output_type": "stream",
          "name": "stdout",
          "text": [
            "Mounted at /content/drive\n"
          ]
        }
      ],
      "source": [
        "from google.colab import drive\n",
        "drive.mount('/content/drive')"
      ]
    },
    {
      "cell_type": "code",
      "execution_count": 5,
      "id": "NEkzuFwejMWs",
      "metadata": {
        "id": "NEkzuFwejMWs"
      },
      "outputs": [],
      "source": [
        "import numpy as np\n",
        "import matplotlib as plt"
      ]
    },
    {
      "cell_type": "code",
      "execution_count": 6,
      "id": "UBXa7PhSHROG",
      "metadata": {
        "id": "UBXa7PhSHROG"
      },
      "outputs": [],
      "source": [
        "import os\n",
        "folder_path = \"/content/drive/MyDrive/Colab Notebooks/HPAS/eval/\""
      ]
    },
    {
      "cell_type": "code",
      "execution_count": 7,
      "id": "b0aefce3-9f3e-4829-b9c1-14899d10bac4",
      "metadata": {
        "colab": {
          "base_uri": "https://localhost:8080/"
        },
        "id": "b0aefce3-9f3e-4829-b9c1-14899d10bac4",
        "outputId": "d8f8293a-5cdb-4122-f3e7-929d3c3293ca"
      },
      "outputs": [
        {
          "output_type": "stream",
          "name": "stdout",
          "text": [
            "found evaluation dataset n°: evaluation6\n",
            "found evaluation dataset n°: evaluation2\n",
            "found evaluation dataset n°: evaluation8\n",
            "found evaluation dataset n°: evaluation4\n",
            "found evaluation dataset n°: evaluation5\n",
            "found evaluation dataset n°: evaluation1\n",
            "found evaluation dataset n°: evaluation3\n",
            "found evaluation dataset n°: evaluation7\n"
          ]
        }
      ],
      "source": [
        "#input files. Do not touch.\n",
        "import pandas as pd\n",
        "import glob\n",
        "import re\n",
        "\n",
        "# Load training.csv\n",
        "training = pd.read_csv(os.path.join(folder_path, \"training.csv\"))\n",
        "\n",
        "# Load all evalN.csv files into separate dataframes named evaluationN\n",
        "eval_files = glob.glob(os.path.join(folder_path, \"eval*.csv\"))\n",
        "for f in eval_files:\n",
        "    match = re.search(r'eval(\\d+)\\.csv', f)\n",
        "    if match:\n",
        "        n = match.group(1)\n",
        "        df_name = f\"evaluation{n}\"\n",
        "        globals()[df_name] = pd.read_csv(f)\n",
        "        print(\"found evaluation dataset n°: \" + df_name)"
      ]
    },
    {
      "cell_type": "code",
      "source": [
        "import tensorflow as tf\n",
        "import tensorflow.keras as tfk\n",
        "from sklearn.preprocessing import MinMaxScaler\n",
        "\n",
        "def compute_hamming_distance(b1, b2):\n",
        "    \"\"\"Compute Hamming distance between two byte strings.\"\"\"\n",
        "    return sum(bin(x ^ y).count('1') for x, y in zip(b1, b2))\n",
        "\n",
        "def hex_to_bytes(hex_str):\n",
        "    \"\"\"Convert 16-char hex payload to bytes object.\"\"\"\n",
        "    if isinstance(hex_str, str) and len(hex_str) == 16:\n",
        "        return bytes.fromhex(hex_str)\n",
        "    return b'\\x00' * 8  # fallback for malformed data\n",
        "\n",
        "def add_hamming_feature(df):\n",
        "    df = df.copy()\n",
        "    df['data_bytes'] = df['data_field'].apply(hex_to_bytes)\n",
        "    df['hamming_dist_prev'] = 0\n",
        "\n",
        "    for msg_id, group in df.groupby('arbitration_id'):\n",
        "        group_sorted = group.sort_values('timestamp')\n",
        "        indices = group_sorted.index.tolist()\n",
        "        payloads = list(group_sorted['data_bytes'])\n",
        "\n",
        "        for i in range(1, len(payloads)):\n",
        "            dist = compute_hamming_distance(payloads[i-1], payloads[i])\n",
        "            df.at[indices[i], 'hamming_dist_prev'] = dist\n",
        "\n",
        "    return df.drop(columns=['data_bytes'])\n",
        "\n",
        "def extract_data(df):\n",
        "    df = df.copy()\n",
        "\n",
        "    # Convert data_field to list of bytes\n",
        "    df['data_bytes'] = df['data_field'].apply(hex_to_bytes)\n",
        "\n",
        "    # Extract each byte into its own column\n",
        "    byte_columns = pd.DataFrame(\n",
        "        df['data_bytes'].apply(lambda b: list(b)).tolist(),\n",
        "        columns=[f'byte_{i}' for i in range(8)]\n",
        "    ).astype(np.float32)\n",
        "\n",
        "    # Total integer value of payload\n",
        "    df['payload_value'] = df['data_field'].apply(lambda x: int(x, 16) if isinstance(x, str) and len(x) == 16 else 0)\n",
        "    byte_columns['payload_value'] = df['payload_value']\n",
        "\n",
        "    return byte_columns"
      ],
      "metadata": {
        "id": "sHJaxCzO7EEK"
      },
      "id": "sHJaxCzO7EEK",
      "execution_count": 27,
      "outputs": []
    },
    {
      "cell_type": "code",
      "execution_count": 36,
      "id": "lyemWGzuJswZ",
      "metadata": {
        "colab": {
          "base_uri": "https://localhost:8080/"
        },
        "id": "lyemWGzuJswZ",
        "outputId": "b42c6b19-4390-401d-e225-629d4910fc3e"
      },
      "outputs": [
        {
          "output_type": "stream",
          "name": "stdout",
          "text": [
            "NaNs in the dataset: 0\n",
            "Extracting features ..\n",
            "Building model ..\n",
            "Epoch 1/50\n",
            "\u001b[1m2877/2877\u001b[0m \u001b[32m━━━━━━━━━━━━━━━━━━━━\u001b[0m\u001b[37m\u001b[0m \u001b[1m18s\u001b[0m 6ms/step - loss: 0.0079 - val_loss: 5.3012e-04\n",
            "Epoch 2/50\n",
            "\u001b[1m2877/2877\u001b[0m \u001b[32m━━━━━━━━━━━━━━━━━━━━\u001b[0m\u001b[37m\u001b[0m \u001b[1m21s\u001b[0m 6ms/step - loss: 1.2291e-05 - val_loss: 4.8782e-04\n",
            "Epoch 3/50\n",
            "\u001b[1m2877/2877\u001b[0m \u001b[32m━━━━━━━━━━━━━━━━━━━━\u001b[0m\u001b[37m\u001b[0m \u001b[1m16s\u001b[0m 5ms/step - loss: 7.8627e-06 - val_loss: 4.3335e-04\n",
            "Epoch 4/50\n",
            "\u001b[1m2877/2877\u001b[0m \u001b[32m━━━━━━━━━━━━━━━━━━━━\u001b[0m\u001b[37m\u001b[0m \u001b[1m16s\u001b[0m 6ms/step - loss: 6.6044e-06 - val_loss: 4.4965e-04\n",
            "Epoch 5/50\n",
            "\u001b[1m2877/2877\u001b[0m \u001b[32m━━━━━━━━━━━━━━━━━━━━\u001b[0m\u001b[37m\u001b[0m \u001b[1m21s\u001b[0m 6ms/step - loss: 5.5859e-06 - val_loss: 5.5539e-04\n",
            "Epoch 6/50\n",
            "\u001b[1m2877/2877\u001b[0m \u001b[32m━━━━━━━━━━━━━━━━━━━━\u001b[0m\u001b[37m\u001b[0m \u001b[1m20s\u001b[0m 5ms/step - loss: 5.0154e-06 - val_loss: 5.0688e-04\n",
            "Epoch 7/50\n",
            "\u001b[1m2877/2877\u001b[0m \u001b[32m━━━━━━━━━━━━━━━━━━━━\u001b[0m\u001b[37m\u001b[0m \u001b[1m17s\u001b[0m 6ms/step - loss: 4.9905e-06 - val_loss: 5.6276e-04\n",
            "Epoch 8/50\n",
            "\u001b[1m2877/2877\u001b[0m \u001b[32m━━━━━━━━━━━━━━━━━━━━\u001b[0m\u001b[37m\u001b[0m \u001b[1m20s\u001b[0m 6ms/step - loss: 5.1037e-06 - val_loss: 5.4758e-04\n",
            "Making predictions..\n",
            "\u001b[1m28761/28761\u001b[0m \u001b[32m━━━━━━━━━━━━━━━━━━━━\u001b[0m\u001b[37m\u001b[0m \u001b[1m39s\u001b[0m 1ms/step\n",
            "Fixed threshold (99.99th percentile on training): 0.003038108158738275\n"
          ]
        }
      ],
      "source": [
        "# Make a copy of training in df\n",
        "df = training.copy()\n",
        "\n",
        "# Remove useless columns for now\n",
        "df = df.drop(columns=['attack'])\n",
        "\n",
        "# Make a set of normal ids\n",
        "training_ids = set(training['arbitration_id'].unique())\n",
        "\n",
        "# Check for NaN values\n",
        "print(\"NaNs in the dataset:\", df.isna().sum().sum())\n",
        "\n",
        "def extract_features(training):\n",
        "  df = training.copy()\n",
        "  # Arbitration Id in int\n",
        "  df['arbitration_id_int'] = df['arbitration_id'].apply(lambda x: int(x, 16))\n",
        "\n",
        "  # Message count per ID\n",
        "  df['msg_count_id'] = df.groupby('arbitration_id')['arbitration_id'].transform('count')\n",
        "\n",
        "  # Time since beginning\n",
        "  df['time'] = df['timestamp'] - df['timestamp'].min()\n",
        "\n",
        "  # Inter arrival time\n",
        "  df['inter_arrival_time'] = df.groupby('arbitration_id')['timestamp'].diff().fillna(0)\n",
        "\n",
        "  # Data-fields\n",
        "  #df_data = extract_data(df)\n",
        "\n",
        "  # Hammming distance w.r.t. previoud message from the same ID\n",
        "  df = add_hamming_feature(df)\n",
        "\n",
        "  # Combine features into one DataFrame\n",
        "  features = pd.concat([\n",
        "        df['arbitration_id_int'], df['time'], df['msg_count_id'], df['inter_arrival_time'], df['hamming_dist_prev'].astype(np.float32)\n",
        "  ], axis=1)\n",
        "\n",
        "  return features\n",
        "\n",
        "# Scale all numeric features\n",
        "print(\"Extracting features ..\")\n",
        "scaler = MinMaxScaler()\n",
        "features = extract_features(training)\n",
        "scaler.fit(features)\n",
        "features_scaled = pd.DataFrame(scaler.transform(features), columns=features.columns)\n",
        "\n",
        "features.head()\n",
        "\n",
        "# Build autoencoder\n",
        "print(\"Building model ..\")\n",
        "input_dim = features_scaled.shape[1]\n",
        "\n",
        "input_layer = tfk.Input(shape=(input_dim,))\n",
        "x = tfk.layers.Dense(128, activation='relu')(input_layer)\n",
        "x = tfk.layers.Dense(64, activation='relu')(x)\n",
        "encoded = tfk.layers.Dense(16, activation='relu')(x)\n",
        "x = tfk.layers.Dense(64, activation='relu')(encoded)\n",
        "x = tfk.layers.Dense(128, activation='relu')(x)\n",
        "output = tfk.layers.Dense(input_dim, activation='sigmoid')(x)\n",
        "\n",
        "autoencoder = tfk.Model(inputs=input_layer, outputs=output)\n",
        "autoencoder.compile(optimizer=tfk.optimizers.Adam(learning_rate=0.001), loss='mse')\n",
        "\n",
        "# Early stopping callback\n",
        "early_stopping = tfk.callbacks.EarlyStopping(\n",
        "    monitor='val_loss',\n",
        "    patience=5,\n",
        "    restore_best_weights=True\n",
        ")\n",
        "\n",
        "# Train autoencoder\n",
        "history = autoencoder.fit(\n",
        "    features_scaled, features_scaled,\n",
        "    epochs=50,\n",
        "    batch_size=256,\n",
        "    shuffle=True,\n",
        "    validation_split=0.2,\n",
        "    callbacks=[early_stopping]\n",
        ")\n",
        "\n",
        "print(\"Making predictions..\")\n",
        "train_predictions = autoencoder.predict(features_scaled)\n",
        "train_reconstruction_errors = np.mean(np.power(features_scaled - train_predictions, 2), axis=1)\n",
        "threshold_error = np.percentile(train_reconstruction_errors, 99.99)  # fixed threshold found on a paper\n",
        "print(\"Fixed threshold (99.99th percentile on training):\", threshold_error)"
      ]
    },
    {
      "cell_type": "code",
      "source": [
        "def compute_max_packets_per_window(df, window_seconds=5):\n",
        "    df = df.copy()\n",
        "    df['timestamp'] = pd.to_datetime(df['timestamp'], unit='s')\n",
        "    df = df.sort_values(['arbitration_id', 'timestamp'])\n",
        "\n",
        "    thresholds = {}\n",
        "\n",
        "    for arb_id, group in df.groupby('arbitration_id'):\n",
        "        # Set timestamp as index for rolling window\n",
        "        group = group.set_index('timestamp')\n",
        "\n",
        "        # Count packets in rolling time windows of size window_seconds\n",
        "        counts = group['arbitration_id'].rolling(f'{window_seconds}s').count()\n",
        "\n",
        "        # Get max packets in any window\n",
        "        max_packets = counts.max()\n",
        "\n",
        "        thresholds[arb_id] = max_packets\n",
        "\n",
        "    return thresholds\n",
        "\n",
        "thresholds_count = compute_max_packets_per_window(training, window_seconds=5)"
      ],
      "metadata": {
        "id": "GnnCjkLYArXv"
      },
      "id": "GnnCjkLYArXv",
      "execution_count": 60,
      "outputs": []
    },
    {
      "cell_type": "code",
      "execution_count": 71,
      "id": "DbBBGeI5dKAT",
      "metadata": {
        "id": "DbBBGeI5dKAT"
      },
      "outputs": [],
      "source": [
        "# result_df needs to be the same as eval_df, with the predicted_attack column\n",
        "def ids(eval_df):\n",
        "    global scaler, autoencoder, threshold_error, training_ids, thresholds_count\n",
        "\n",
        "    # Make a copy of the input\n",
        "    test_df = eval_df.copy()\n",
        "    test_df = test_df.drop(columns=['attack'])\n",
        "\n",
        "    # Extract and scale features\n",
        "    test_features = extract_features(test_df)\n",
        "    test = scaler.transform(test_features)\n",
        "\n",
        "    # Making the predictions\n",
        "    predictions = autoencoder.predict(test)\n",
        "\n",
        "    # Compute reconstruction error for each test sample\n",
        "    reconstruction_errors = np.mean(np.power(test - predictions, 2), axis=1)\n",
        "\n",
        "    result_df = eval_df.copy()\n",
        "    result_df['predicted_attack'] = (reconstruction_errors > threshold_error).astype(int)\n",
        "\n",
        "    # Compute packet counts per window in eval\n",
        "    eval_df = result_df.copy()\n",
        "    eval_df['timestamp'] = pd.to_datetime(eval_df['timestamp'], unit='s')\n",
        "    eval_df = eval_df.sort_values(['arbitration_id', 'timestamp'])\n",
        "\n",
        "    # Flag as attack if any arbitration_id has more than 120% packets per time window\n",
        "    window_seconds = 5\n",
        "    flagged_ids = set()\n",
        "    for arb_id, group in eval_df.groupby('arbitration_id'):\n",
        "        group = group.set_index('timestamp')\n",
        "        counts = group['arbitration_id'].rolling(f'{window_seconds}s').count()\n",
        "        max_packets_eval = counts.max()\n",
        "\n",
        "        train_thresh = thresholds_count.get(arb_id, None)\n",
        "        if train_thresh is not None:\n",
        "            if max_packets_eval > train_thresh * 1.2: # this value does not influence the results too much, as long as it is higher than 1\n",
        "                flagged_ids.add(arb_id)\n",
        "\n",
        "    result_df.loc[result_df['arbitration_id'].isin(flagged_ids), 'predicted_attack'] = 1\n",
        "\n",
        "    # Mark malformed payloads as NOT attacks\n",
        "    malformed_mask = ~result_df['data_field'].apply(lambda x: isinstance(x, str) and len(x) == 16)\n",
        "    result_df.loc[malformed_mask, 'predicted_attack'] = 0\n",
        "\n",
        "    # All packets with newer arbitration_id are attacks\n",
        "    result_df.loc[~result_df['arbitration_id'].isin(training_ids), 'predicted_attack'] = 1\n",
        "\n",
        "    return result_df"
      ]
    },
    {
      "cell_type": "code",
      "execution_count": 72,
      "id": "67fd5a34-7f43-4f35-9e98-e214f74d8cf9",
      "metadata": {
        "colab": {
          "base_uri": "https://localhost:8080/",
          "height": 1000
        },
        "id": "67fd5a34-7f43-4f35-9e98-e214f74d8cf9",
        "outputId": "c26e3f49-d502-4a5e-b84f-d3d2df021d79"
      },
      "outputs": [
        {
          "output_type": "stream",
          "name": "stdout",
          "text": [
            "running evaluation6\n",
            "\u001b[1m407/407\u001b[0m \u001b[32m━━━━━━━━━━━━━━━━━━━━\u001b[0m\u001b[37m\u001b[0m \u001b[1m1s\u001b[0m 3ms/step\n",
            "running evaluation2\n",
            "\u001b[1m407/407\u001b[0m \u001b[32m━━━━━━━━━━━━━━━━━━━━\u001b[0m\u001b[37m\u001b[0m \u001b[1m1s\u001b[0m 2ms/step\n",
            "running evaluation8\n",
            "\u001b[1m469/469\u001b[0m \u001b[32m━━━━━━━━━━━━━━━━━━━━\u001b[0m\u001b[37m\u001b[0m \u001b[1m1s\u001b[0m 2ms/step\n",
            "running evaluation4\n",
            "\u001b[1m126/126\u001b[0m \u001b[32m━━━━━━━━━━━━━━━━━━━━\u001b[0m\u001b[37m\u001b[0m \u001b[1m0s\u001b[0m 2ms/step\n",
            "running evaluation5\n",
            "\u001b[1m782/782\u001b[0m \u001b[32m━━━━━━━━━━━━━━━━━━━━\u001b[0m\u001b[37m\u001b[0m \u001b[1m1s\u001b[0m 1ms/step\n",
            "running evaluation1\n",
            "\u001b[1m407/407\u001b[0m \u001b[32m━━━━━━━━━━━━━━━━━━━━\u001b[0m\u001b[37m\u001b[0m \u001b[1m1s\u001b[0m 1ms/step\n",
            "running evaluation3\n",
            "\u001b[1m313/313\u001b[0m \u001b[32m━━━━━━━━━━━━━━━━━━━━\u001b[0m\u001b[37m\u001b[0m \u001b[1m0s\u001b[0m 1ms/step\n",
            "running evaluation7\n",
            "\u001b[1m876/876\u001b[0m \u001b[32m━━━━━━━━━━━━━━━━━━━━\u001b[0m\u001b[37m\u001b[0m \u001b[1m1s\u001b[0m 1ms/step\n",
            "\n",
            "evaluation6 Evaluation Metrics:\n",
            "  Accuracy: 0.9875\n",
            "  Precision: 0.6836\n",
            "  Recall: 1.0000\n",
            "  F1_score: 0.8121\n",
            "\n",
            "evaluation2 Evaluation Metrics:\n",
            "  Accuracy: 0.9943\n",
            "  Precision: 0.9858\n",
            "  Recall: 1.0000\n",
            "  F1_score: 0.9929\n",
            "\n",
            "evaluation8 Evaluation Metrics:\n",
            "  Accuracy: 0.9560\n",
            "  Precision: 0.0473\n",
            "  Recall: 0.0357\n",
            "  F1_score: 0.0407\n",
            "\n",
            "evaluation4 Evaluation Metrics:\n",
            "  Accuracy: 0.9530\n",
            "  Precision: 0.0000\n",
            "  Recall: 0.0000\n",
            "  F1_score: 0.0000\n",
            "\n",
            "evaluation5 Evaluation Metrics:\n",
            "  Accuracy: 0.9771\n",
            "  Precision: 0.9398\n",
            "  Recall: 0.9868\n",
            "  F1_score: 0.9627\n",
            "\n",
            "evaluation1 Evaluation Metrics:\n",
            "  Accuracy: 0.9507\n",
            "  Precision: 0.8770\n",
            "  Recall: 1.0000\n",
            "  F1_score: 0.9345\n",
            "\n",
            "evaluation3 Evaluation Metrics:\n",
            "  Accuracy: 0.9258\n",
            "  Precision: 0.6450\n",
            "  Recall: 1.0000\n",
            "  F1_score: 0.7842\n",
            "\n",
            "evaluation7 Evaluation Metrics:\n",
            "  Accuracy: 0.9668\n",
            "  Precision: 0.0000\n",
            "  Recall: 0.0000\n",
            "  F1_score: 0.0000\n",
            "\n",
            "Average Evaluation Metrics:\n",
            "  Accuracy: 0.9639\n",
            "  Precision: 0.5223\n",
            "  Recall: 0.6278\n",
            "  F1_score: 0.5659\n"
          ]
        },
        {
          "output_type": "display_data",
          "data": {
            "text/plain": [
              "<Figure size 1200x600 with 1 Axes>"
            ],
            "image/png": "[encoded data removed]"
          },
          "metadata": {}
        },
        {
          "output_type": "stream",
          "name": "stdout",
          "text": [
            "\n",
            "Total Elapsed Time: 19.47 seconds\n"
          ]
        }
      ],
      "source": [
        "#evaluation sequence. Do not touch.\n",
        "import time  # Add this\n",
        "import matplotlib.pyplot as plt\n",
        "import numpy as np\n",
        "from sklearn.metrics import accuracy_score, precision_score, recall_score, f1_score\n",
        "\n",
        "start_time = time.time()  # Start timing\n",
        "\n",
        "evaluation_metrics = {}\n",
        "all_globals = list(globals().items())\n",
        "\n",
        "# Loop through evaluation dataframes\n",
        "for name, df in all_globals:\n",
        "    if name.startswith(\"evaluation\") and isinstance(df, pd.DataFrame):\n",
        "        # Run IDS\n",
        "        print(\"running \" + name)\n",
        "        detected_df = ids(df)\n",
        "\n",
        "        # Compare predictions to ground truth\n",
        "        y_true = detected_df['attack']\n",
        "        y_pred = detected_df['predicted_attack']\n",
        "\n",
        "        # Compute metrics\n",
        "        metrics = {\n",
        "            'accuracy': accuracy_score(y_true, y_pred),\n",
        "            'precision': precision_score(y_true, y_pred, zero_division=0),\n",
        "            'recall': recall_score(y_true, y_pred, zero_division=0),\n",
        "            'f1_score': f1_score(y_true, y_pred, zero_division=0),\n",
        "        }\n",
        "\n",
        "        evaluation_metrics[name] = metrics\n",
        "\n",
        "# Compute average metrics\n",
        "avg_metrics = {\n",
        "    metric: np.mean([metrics[metric] for metrics in evaluation_metrics.values()])\n",
        "    for metric in ['accuracy', 'precision', 'recall', 'f1_score']\n",
        "}\n",
        "evaluation_metrics['Average'] = avg_metrics\n",
        "\n",
        "# Display metrics\n",
        "for name, metrics in evaluation_metrics.items():\n",
        "    print(f\"\\n{name} Evaluation Metrics:\")\n",
        "    for metric, value in metrics.items():\n",
        "        print(f\"  {metric.capitalize()}: {value:.4f}\")\n",
        "\n",
        "# Plotting\n",
        "labels = list(evaluation_metrics.keys())\n",
        "x = np.arange(len(labels))\n",
        "width = 0.2\n",
        "\n",
        "# Prepare metric lists\n",
        "accuracy = [evaluation_metrics[label]['accuracy'] for label in labels]\n",
        "precision = [evaluation_metrics[label]['precision'] for label in labels]\n",
        "recall = [evaluation_metrics[label]['recall'] for label in labels]\n",
        "f1 = [evaluation_metrics[label]['f1_score'] for label in labels]\n",
        "\n",
        "# Create the bar chart\n",
        "plt.figure(figsize=(12, 6))\n",
        "plt.bar(x - 1.5*width, accuracy, width, label='Accuracy')\n",
        "plt.bar(x - 0.5*width, precision, width, label='Precision')\n",
        "plt.bar(x + 0.5*width, recall, width, label='Recall')\n",
        "plt.bar(x + 1.5*width, f1, width, label='F1 Score')\n",
        "\n",
        "plt.xticks(x, labels, rotation=45)\n",
        "plt.ylabel('Score')\n",
        "plt.title('IDS Evaluation Metrics per Dataset')\n",
        "plt.ylim(0, 1.05)\n",
        "plt.legend()\n",
        "plt.tight_layout()\n",
        "plt.grid(axis='y')\n",
        "plt.show()\n",
        "\n",
        "# End timing\n",
        "end_time = time.time()\n",
        "elapsed_time = end_time - start_time\n",
        "print(f\"\\nTotal Elapsed Time: {elapsed_time:.2f} seconds\")\n"
      ]
    }
  ],
  "metadata": {
    "accelerator": "GPU",
    "colab": {
      "gpuType": "T4",
      "provenance": [],
      "include_colab_link": true
    },
    "kernelspec": {
      "display_name": "Python 3",
      "name": "python3"
    },
    "language_info": {
      "codemirror_mode": {
        "name": "ipython",
        "version": 3
      },
      "file_extension": ".py",
      "mimetype": "text/x-python",
      "name": "python",
      "nbconvert_exporter": "python",
      "pygments_lexer": "ipython3",
      "version": "3.10.14"
    }
  },
  "nbformat": 4,
  "nbformat_minor": 5
}